{
 "cells": [
  {
   "cell_type": "markdown",
   "id": "f26c4de7",
   "metadata": {},
   "source": [
    "# Generate multiple data sets to vary criteria values"
   ]
  },
  {
   "cell_type": "markdown",
   "id": "128bfe12",
   "metadata": {},
   "source": []
  },
  {
   "cell_type": "markdown",
   "id": "5f830e5f",
   "metadata": {},
   "source": []
  }
 ],
 "metadata": {
  "language_info": {
   "name": "python"
  }
 },
 "nbformat": 4,
 "nbformat_minor": 5
}
