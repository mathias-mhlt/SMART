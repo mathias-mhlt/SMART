{
 "cells": [
  {
   "cell_type": "code",
   "execution_count": 11,
   "id": "ac4215fa-9cd6-4b5d-bbd2-85e8342eb10b",
   "metadata": {},
   "outputs": [
    {
     "name": "stdout",
     "output_type": "stream",
     "text": [
      "=== Feature Accuracy (numérique ou catégorielle) ===\n"
     ]
    },
    {
     "name": "stdin",
     "output_type": "stream",
     "text": [
      "Nom du fichier CSV (ex: donnees_sante.csv) :  /home/fifkirne/4IF/pldsmart/donnees_sante.csv\n"
     ]
    },
    {
     "name": "stdout",
     "output_type": "stream",
     "text": [
      "\n",
      "Colonnes disponibles : ['Nom', 'Sexe_Obs', 'Cholesterol_Obs', 'Temp_Obs']\n"
     ]
    },
    {
     "name": "stdin",
     "output_type": "stream",
     "text": [
      "\n",
      "Nom de la colonne à évaluer :  Cholesterol_Obs\n",
      "Type de la donnée ? (num pour numérique / cat pour catégorielle) :  num\n"
     ]
    },
    {
     "name": "stdout",
     "output_type": "stream",
     "text": [
      "\n",
      "5 valeurs numériques chargées. Exemple : [1.9, 2.1, 1.5, 1.2, 0.9]\n"
     ]
    },
    {
     "name": "stdin",
     "output_type": "stream",
     "text": [
      "Entrez la borne MIN de l’intervalle acceptable :  1.3\n",
      "Entrez la borne MAX de l’intervalle acceptable :  1.7\n"
     ]
    },
    {
     "name": "stdout",
     "output_type": "stream",
     "text": [
      "\n",
      " Feature Accuracy numérique pour 'Cholesterol_Obs' : 0.2000\n"
     ]
    }
   ],
   "source": [
    "import pandas as pd\n",
    "\n",
    "def feature_accuracy_categorical(gt_values, observed_values):\n",
    "    n = len(gt_values)\n",
    "    mismatches = sum(gt != obs for gt, obs in zip(gt_values, observed_values))\n",
    "    return 1 - mismatches / n if n > 0 else 0\n",
    "\n",
    "\n",
    "def feature_accuracy_interval_numeric(observed_values, min_val, max_val):\n",
    "    n = len(observed_values)\n",
    "    in_range = sum(min_val <= val <= max_val for val in observed_values)\n",
    "    return in_range / n if n > 0 else 0\n",
    "\n",
    "\n",
    "def main():\n",
    "    print(\"=== Feature Accuracy (numérique ou catégorielle) ===\")\n",
    "    filename = input(\"Nom du fichier CSV (ex: donnees_sante.csv) : \").strip()\n",
    "\n",
    "    try:\n",
    "        df = pd.read_csv(filename)\n",
    "        print(\"\\nColonnes disponibles :\", list(df.columns))\n",
    "\n",
    "        col_feature = input(\"\\nNom de la colonne à évaluer : \").strip()\n",
    "        if col_feature not in df.columns:\n",
    "            print(\" Colonne non trouvée.\")\n",
    "            return\n",
    "\n",
    "        feature_type = input(\"Type de la donnée ? (num pour numérique / cat pour catégorielle) : \").strip().lower()\n",
    "\n",
    "        if feature_type == \"num\":\n",
    "            observed = pd.to_numeric(df[col_feature], errors='coerce').dropna()\n",
    "            print(f\"\\n{len(observed)} valeurs numériques chargées. Exemple : {observed.head().tolist()}\")\n",
    "            min_val = float(input(\"Entrez la borne MIN de l’intervalle acceptable : \"))\n",
    "            max_val = float(input(\"Entrez la borne MAX de l’intervalle acceptable : \"))\n",
    "            acc = feature_accuracy_interval_numeric(observed.tolist(), min_val, max_val)\n",
    "            print(f\"\\n Feature Accuracy numérique pour '{col_feature}' : {acc:.4f}\")\n",
    "\n",
    "        elif feature_type == \"cat\":\n",
    "            observed = df[col_feature].dropna().astype(str)\n",
    "            print(f\"\\n{len(observed)} valeurs catégorielles chargées. Exemple : {observed.head().tolist()}\")\n",
    "            allowed_input = input(\"Entrez les valeurs correctes séparées par des virgules : \")\n",
    "            allowed_values = [v.strip() for v in allowed_input.split(\",\")]\n",
    "            acc = feature_accuracy_categorical(observed.tolist(), allowed_values)\n",
    "            print(f\"\\n Feature Accuracy catégorielle pour '{col_feature}' : {acc:.4f}\")\n",
    "\n",
    "        else:\n",
    "            print(\" Type non reconnu. Choisissez 'num' ou 'cat'.\")\n",
    "\n",
    "    except FileNotFoundError:\n",
    "        print(\" Fichier introuvable.\")\n",
    "    except Exception as e:\n",
    "        print(\" Erreur :\", e)\n",
    "\n",
    "if __name__ == \"__main__\":\n",
    "    main()\n"
   ]
  },
  {
   "cell_type": "code",
   "execution_count": null,
   "id": "5c46ee3b-a033-4a35-94d3-75d89452e73f",
   "metadata": {},
   "outputs": [],
   "source": [
    "/home/fifkirne/4IF/pldsmart/donnees_sante.csv"
   ]
  }
 ],
 "metadata": {
  "kernelspec": {
   "display_name": "Python [conda env:base] *",
   "language": "python",
   "name": "conda-base-py"
  },
  "language_info": {
   "codemirror_mode": {
    "name": "ipython",
    "version": 3
   },
   "file_extension": ".py",
   "mimetype": "text/x-python",
   "name": "python",
   "nbconvert_exporter": "python",
   "pygments_lexer": "ipython3",
   "version": "3.12.7"
  }
 },
 "nbformat": 4,
 "nbformat_minor": 5
}
